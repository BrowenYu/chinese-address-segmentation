{
 "cells": [
  {
   "cell_type": "code",
   "execution_count": 1,
   "metadata": {
    "ExecuteTime": {
     "end_time": "2021-01-28T09:24:46.181006Z",
     "start_time": "2021-01-28T09:24:45.907005Z"
    }
   },
   "outputs": [],
   "source": [
    "import pickle\n",
    "import time\n",
    "import re\n",
    "import os\n",
    "import pandas as pd\n",
    "from multiprocessing import Process, Queue\n",
    "from IPython.display import clear_output as clear\n",
    "\n",
    "def readDataFiles_(path):\n",
    "    readList = []\n",
    "    with open(path, 'rb') as f:\n",
    "        readList = pickle.load(f)\n",
    "    return readList\n",
    "\n",
    "\n",
    "def saveDataFiles_(data, path):\n",
    "    with open(path, 'wb') as f:\n",
    "        readList = pickle.dump(data, f)"
   ]
  },
  {
   "cell_type": "code",
   "execution_count": 2,
   "metadata": {
    "ExecuteTime": {
     "end_time": "2021-01-28T09:24:46.352635Z",
     "start_time": "2021-01-28T09:24:46.342067Z"
    }
   },
   "outputs": [],
   "source": [
    "def combine_pkl(right_pkl_path, excel_data_path):\n",
    "    right_pkl = readDataFiles_(right_pkl_path)\n",
    "    excel_data = pd.read_excel(excel_data_path, sheet_name='正确')\n",
    "    excel_words = list(excel_data['words'])\n",
    "    right_pkl.extend(excel_words)\n",
    "    pkl_words = list(set(right_pkl))\n",
    "    return pkl_words\n",
    "\n",
    "def create_strength_pkl(new_pkl_path, strength_pkl_path, tag):\n",
    "    strength_data = []\n",
    "    pkl_words = readDataFiles_(new_pkl_path)\n",
    "    for word in pkl_words:\n",
    "        strength_data.append([[word], [tag]])\n",
    "    saveDataFiles_(strength_data, strength_pkl_path)"
   ]
  },
  {
   "cell_type": "code",
   "execution_count": 3,
   "metadata": {
    "ExecuteTime": {
     "end_time": "2021-01-28T09:24:46.700269Z",
     "start_time": "2021-01-28T09:24:46.656101Z"
    }
   },
   "outputs": [],
   "source": [
    "# 整合r22正确pkl\n",
    "\n",
    "r22_right_pkl_path = '/home/bangsun/research/nlpAddress/data/generate/pkl/new/right/r22_hospital_1110.pkl'\n",
    "r22_excel_data_path = '/home/bangsun/research/fank/nlpAddress/codes/data/source/rectify_pkl/r22/r22.xlsx'\n",
    "r22_right = readDataFiles_(r22_right_pkl_path)\n",
    "r22_words = combine_pkl(r22_right_pkl_path, r22_excel_data_path)"
   ]
  },
  {
   "cell_type": "code",
   "execution_count": 4,
   "metadata": {
    "ExecuteTime": {
     "end_time": "2021-01-28T09:24:47.128397Z",
     "start_time": "2021-01-28T09:24:47.122170Z"
    }
   },
   "outputs": [
    {
     "name": "stdout",
     "output_type": "stream",
     "text": [
      "5530\n",
      "5323\n"
     ]
    }
   ],
   "source": [
    "print(len(r22_words))\n",
    "print(len(r22_right))"
   ]
  },
  {
   "cell_type": "code",
   "execution_count": 5,
   "metadata": {
    "ExecuteTime": {
     "end_time": "2021-01-28T09:24:48.069921Z",
     "start_time": "2021-01-28T09:24:48.001426Z"
    }
   },
   "outputs": [],
   "source": [
    "new_pkl_path = '/home/bangsun/research/nlpAddress/data/generate/pkl/newPKL/r22_hospital_0127.pkl'\n",
    "strength_pkl_path = '/home/bangsun/research/fank/nlpAddress/codes/data/pkl/r22_hospital_0127.pkl'\n",
    "saveDataFiles_(r22_words, new_pkl_path)\n",
    "create_strength_pkl(new_pkl_path, strength_pkl_path, 'R22')"
   ]
  },
  {
   "cell_type": "code",
   "execution_count": null,
   "metadata": {
    "ExecuteTime": {
     "end_time": "2021-01-27T10:27:24.004134Z",
     "start_time": "2021-01-27T10:27:23.931046Z"
    }
   },
   "outputs": [],
   "source": []
  },
  {
   "cell_type": "code",
   "execution_count": 6,
   "metadata": {
    "ExecuteTime": {
     "end_time": "2021-01-28T09:24:50.680411Z",
     "start_time": "2021-01-28T09:24:49.547980Z"
    }
   },
   "outputs": [],
   "source": [
    "# 整合r23正确pkl\n",
    "\n",
    "r23_right_pkl_path = '/home/bangsun/research/nlpAddress/data/generate/pkl/new/right/r23_bank_1110.pkl'\n",
    "r23_excel_data_path = '/home/bangsun/research/fank/nlpAddress/codes/data/source/rectify_pkl/r23/r23.xlsx'\n",
    "r23_right = readDataFiles_(r23_right_pkl_path)\n",
    "r23_words = combine_pkl(r23_right_pkl_path, r23_excel_data_path)"
   ]
  },
  {
   "cell_type": "code",
   "execution_count": 7,
   "metadata": {
    "ExecuteTime": {
     "end_time": "2021-01-28T09:24:52.114705Z",
     "start_time": "2021-01-28T09:24:52.108653Z"
    }
   },
   "outputs": [
    {
     "name": "stdout",
     "output_type": "stream",
     "text": [
      "27763\n",
      "240\n"
     ]
    }
   ],
   "source": [
    "print(len(r23_words))\n",
    "print(len(r23_right))"
   ]
  },
  {
   "cell_type": "code",
   "execution_count": 8,
   "metadata": {
    "ExecuteTime": {
     "end_time": "2021-01-28T09:24:52.763257Z",
     "start_time": "2021-01-28T09:24:52.623685Z"
    }
   },
   "outputs": [],
   "source": [
    "new_pkl_path = '/home/bangsun/research/nlpAddress/data/generate/pkl/newPKL/r23_bank_0127.pkl'\n",
    "strength_pkl_path = '/home/bangsun/research/fank/nlpAddress/codes/data/pkl/r23_bank_0127.pkl'\n",
    "saveDataFiles_(r23_words, new_pkl_path)\n",
    "create_strength_pkl(new_pkl_path, strength_pkl_path, 'R23')\n"
   ]
  },
  {
   "cell_type": "code",
   "execution_count": null,
   "metadata": {
    "ExecuteTime": {
     "end_time": "2021-01-27T10:31:06.581899Z",
     "start_time": "2021-01-27T10:31:06.373225Z"
    }
   },
   "outputs": [],
   "source": []
  },
  {
   "cell_type": "code",
   "execution_count": 10,
   "metadata": {
    "ExecuteTime": {
     "end_time": "2021-01-28T09:25:33.899236Z",
     "start_time": "2021-01-28T09:25:15.568224Z"
    }
   },
   "outputs": [],
   "source": [
    "# 整合r24正确pkl\n",
    "\n",
    "r24_right_pkl_path = '/home/bangsun/research/nlpAddress/data/generate/pkl/new/right/r24_Govern_1113.pkl'\n",
    "r24_excel_data_path = '/home/bangsun/research/fank/nlpAddress/codes/data/source/rectify_pkl/r24/r24.xlsx'\n",
    "r24_right = readDataFiles_(r24_right_pkl_path)\n",
    "r24_words = combine_pkl(r24_right_pkl_path, r24_excel_data_path)"
   ]
  },
  {
   "cell_type": "code",
   "execution_count": 11,
   "metadata": {
    "ExecuteTime": {
     "end_time": "2021-01-28T09:25:37.409433Z",
     "start_time": "2021-01-28T09:25:37.403635Z"
    }
   },
   "outputs": [
    {
     "name": "stdout",
     "output_type": "stream",
     "text": [
      "6297\n",
      "4609\n"
     ]
    }
   ],
   "source": [
    "print(len(r24_words))\n",
    "print(len(r24_right))"
   ]
  },
  {
   "cell_type": "code",
   "execution_count": 12,
   "metadata": {
    "ExecuteTime": {
     "end_time": "2021-01-28T09:25:37.945538Z",
     "start_time": "2021-01-28T09:25:37.894297Z"
    }
   },
   "outputs": [],
   "source": [
    "new_pkl_path = '/home/bangsun/research/nlpAddress/data/generate/pkl/newPKL/r24_Govern_0127.pkl'\n",
    "strength_pkl_path = '/home/bangsun/research/fank/nlpAddress/codes/data/pkl/r24_Govern_0127.pkl'\n",
    "saveDataFiles_(r24_words, new_pkl_path)\n",
    "create_strength_pkl(new_pkl_path, strength_pkl_path, 'R24')"
   ]
  },
  {
   "cell_type": "code",
   "execution_count": null,
   "metadata": {
    "ExecuteTime": {
     "end_time": "2021-01-28T02:40:08.003680Z",
     "start_time": "2021-01-28T02:40:07.904076Z"
    }
   },
   "outputs": [],
   "source": []
  },
  {
   "cell_type": "code",
   "execution_count": 13,
   "metadata": {
    "ExecuteTime": {
     "end_time": "2021-01-28T09:25:39.231005Z",
     "start_time": "2021-01-28T09:25:38.646841Z"
    }
   },
   "outputs": [],
   "source": [
    "# 整合r20正确pkl\n",
    "\n",
    "r20_right_pkl_path = '/home/bangsun/research/nlpAddress/data/generate/pkl/new/right/r20_company_1110.pkl'\n",
    "r20_excel_data_path = '/home/bangsun/research/fank/nlpAddress/codes/data/source/rectify_pkl/r20/r20.xlsx'\n",
    "r20_right = readDataFiles_(r20_right_pkl_path)\n",
    "r20_words = combine_pkl(r20_right_pkl_path, r20_excel_data_path)"
   ]
  },
  {
   "cell_type": "code",
   "execution_count": 14,
   "metadata": {
    "ExecuteTime": {
     "end_time": "2021-01-28T09:25:39.236522Z",
     "start_time": "2021-01-28T09:25:39.232919Z"
    }
   },
   "outputs": [
    {
     "name": "stdout",
     "output_type": "stream",
     "text": [
      "151673\n",
      "142608\n"
     ]
    }
   ],
   "source": [
    "print(len(r20_words))\n",
    "print(len(r20_right))"
   ]
  },
  {
   "cell_type": "code",
   "execution_count": 15,
   "metadata": {
    "ExecuteTime": {
     "end_time": "2021-01-28T09:25:40.325603Z",
     "start_time": "2021-01-28T09:25:39.627916Z"
    }
   },
   "outputs": [],
   "source": [
    "new_pkl_path = '/home/bangsun/research/nlpAddress/data/generate/pkl/newPKL/r20_company_0127.pkl'\n",
    "strength_pkl_path = '/home/bangsun/research/fank/nlpAddress/codes/data/pkl/r20_company_0127.pkl'\n",
    "saveDataFiles_(r20_words, new_pkl_path)\n",
    "create_strength_pkl(new_pkl_path, strength_pkl_path, 'R20')"
   ]
  },
  {
   "cell_type": "code",
   "execution_count": null,
   "metadata": {},
   "outputs": [],
   "source": []
  }
 ],
 "metadata": {
  "kernelspec": {
   "display_name": "Python 3",
   "language": "python",
   "name": "python3"
  },
  "language_info": {
   "codemirror_mode": {
    "name": "ipython",
    "version": 3
   },
   "file_extension": ".py",
   "mimetype": "text/x-python",
   "name": "python",
   "nbconvert_exporter": "python",
   "pygments_lexer": "ipython3",
   "version": "3.8.3"
  },
  "toc": {
   "base_numbering": 1,
   "nav_menu": {},
   "number_sections": true,
   "sideBar": true,
   "skip_h1_title": false,
   "title_cell": "Table of Contents",
   "title_sidebar": "Contents",
   "toc_cell": false,
   "toc_position": {},
   "toc_section_display": true,
   "toc_window_display": false
  }
 },
 "nbformat": 4,
 "nbformat_minor": 4
}

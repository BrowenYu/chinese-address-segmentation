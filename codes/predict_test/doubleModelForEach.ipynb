{
 "cells": [
  {
   "cell_type": "code",
   "execution_count": 2,
   "metadata": {
    "ExecuteTime": {
     "end_time": "2020-10-30T14:15:23.040433Z",
     "start_time": "2020-10-30T14:15:16.778956Z"
    }
   },
   "outputs": [],
   "source": [
    "# 二级模型单条测试\n",
    "import os\n",
    "os.environ[\"CUDA_DEVICE_ORDER\"] = \"PCI_BUS_ID\" \n",
    "os.environ[\"CUDA_VISIBLE_DEVICES\"] = \"1\"\n",
    "import tensorflow as tf\n",
    "from hanlp.components.pos import RNNPartOfSpeechTagger\n",
    "\n",
    "tagger1 = RNNPartOfSpeechTagger()\n",
    "save_moedl='../model/pos1030first/'\n",
    "tagger1.load(save_moedl)\n",
    "tagger2 = RNNPartOfSpeechTagger()\n",
    "save_moedl='../model/pos1030second/'\n",
    "tagger2.load(save_moedl)"
   ]
  },
  {
   "cell_type": "code",
   "execution_count": 3,
   "metadata": {
    "ExecuteTime": {
     "end_time": "2020-10-30T14:15:23.048143Z",
     "start_time": "2020-10-30T14:15:23.042887Z"
    }
   },
   "outputs": [],
   "source": [
    "def Process(addr, tag):\n",
    "    strList = []\n",
    "    tagCur = ''\n",
    "    for i in range(len(tag)):\n",
    "        if tag[i] != 'X' and tag[i] != 'M':\n",
    "            if i != 0:\n",
    "                strList.append(',')\n",
    "                strList.append(tagCur)\n",
    "                strList.append(',')\n",
    "            strList.append(addr[i])\n",
    "            tagCur = tag[i]\n",
    "        else:\n",
    "            strList.append(addr[i])\n",
    "    strList.append(',')\n",
    "    strList.append(tagCur)\n",
    "    return ''.join(strList)"
   ]
  },
  {
   "cell_type": "code",
   "execution_count": 6,
   "metadata": {
    "ExecuteTime": {
     "end_time": "2020-10-30T14:15:53.187222Z",
     "start_time": "2020-10-30T14:15:53.172300Z"
    }
   },
   "outputs": [],
   "source": [
    "def predict(addStr):\n",
    "    addList = [list(addStr)]\n",
    "    init = tagger1.predict(addList)[0]\n",
    "    strNextList = []\n",
    "    start = -1\n",
    "    for i in range(len(addList[0])):\n",
    "        if init[i] == 'RX':\n",
    "            start = i\n",
    "            break\n",
    "    if start == -1:\n",
    "        return ' '.join(init[:])\n",
    "    else:\n",
    "        second = tagger2.predict([addList[0][start:]])[0]\n",
    "        return ' '.join(init[:start]) + ' ' + ' '.join(second)\n",
    "    \n",
    "def nlpWordsTest(rdAddress):\n",
    "    address=list(rdAddress)\n",
    "    M1 = tagger1.predict(address)\n",
    "    address1 = Process(address,M1)\n",
    "    M2 = predict(address)\n",
    "    M2 = M2.split()\n",
    "    address2 = Process(address,M2)\n",
    "    print(address1)\n",
    "    print(address2+'\\n')"
   ]
  },
  {
   "cell_type": "code",
   "execution_count": 29,
   "metadata": {
    "ExecuteTime": {
     "end_time": "2020-11-02T11:03:06.149126Z",
     "start_time": "2020-11-02T11:03:05.909099Z"
    }
   },
   "outputs": [
    {
     "name": "stdout",
     "output_type": "stream",
     "text": [
      "安徽省,R1,六安市,R2,霍邱县,R3,城关地税分局,RX\n",
      "安徽省,R1,六安市,R2,霍邱县,R3,城关地税分局,R24\n",
      "\n"
     ]
    }
   ],
   "source": [
    "nlpWordsTest('安徽省六安市霍邱县城关地税分局')"
   ]
  }
 ],
 "metadata": {
  "kernelspec": {
   "display_name": "Python 3",
   "language": "python",
   "name": "python3"
  },
  "language_info": {
   "codemirror_mode": {
    "name": "ipython",
    "version": 3
   },
   "file_extension": ".py",
   "mimetype": "text/x-python",
   "name": "python",
   "nbconvert_exporter": "python",
   "pygments_lexer": "ipython3",
   "version": "3.8.3"
  }
 },
 "nbformat": 4,
 "nbformat_minor": 4
}
